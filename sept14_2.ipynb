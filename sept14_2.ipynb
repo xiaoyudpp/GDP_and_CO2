{
 "cells": [
  {
   "cell_type": "code",
   "execution_count": 1,
   "source": [
    "#exercise 1- read in the datafile as a dataFrame\n",
    "import pandas as pd\n",
    "df = pd.read_stata('US_ACS_2017_10pct_sample.dta')\n",
    "df"
   ],
   "outputs": [
    {
     "output_type": "execute_result",
     "data": {
      "text/html": [
       "<div>\n",
       "<style scoped>\n",
       "    .dataframe tbody tr th:only-of-type {\n",
       "        vertical-align: middle;\n",
       "    }\n",
       "\n",
       "    .dataframe tbody tr th {\n",
       "        vertical-align: top;\n",
       "    }\n",
       "\n",
       "    .dataframe thead th {\n",
       "        text-align: right;\n",
       "    }\n",
       "</style>\n",
       "<table border=\"1\" class=\"dataframe\">\n",
       "  <thead>\n",
       "    <tr style=\"text-align: right;\">\n",
       "      <th></th>\n",
       "      <th>year</th>\n",
       "      <th>datanum</th>\n",
       "      <th>serial</th>\n",
       "      <th>cbserial</th>\n",
       "      <th>numprec</th>\n",
       "      <th>subsamp</th>\n",
       "      <th>hhwt</th>\n",
       "      <th>hhtype</th>\n",
       "      <th>cluster</th>\n",
       "      <th>adjust</th>\n",
       "      <th>...</th>\n",
       "      <th>migcounty1</th>\n",
       "      <th>migmet131</th>\n",
       "      <th>vetdisab</th>\n",
       "      <th>diffrem</th>\n",
       "      <th>diffphys</th>\n",
       "      <th>diffmob</th>\n",
       "      <th>diffcare</th>\n",
       "      <th>diffsens</th>\n",
       "      <th>diffeye</th>\n",
       "      <th>diffhear</th>\n",
       "    </tr>\n",
       "  </thead>\n",
       "  <tbody>\n",
       "    <tr>\n",
       "      <th>0</th>\n",
       "      <td>2017</td>\n",
       "      <td>1</td>\n",
       "      <td>177686</td>\n",
       "      <td>2.017001e+12</td>\n",
       "      <td>9</td>\n",
       "      <td>64</td>\n",
       "      <td>55</td>\n",
       "      <td>female householder, no husband present</td>\n",
       "      <td>2.017002e+12</td>\n",
       "      <td>1.011189</td>\n",
       "      <td>...</td>\n",
       "      <td>0</td>\n",
       "      <td>not in identifiable area</td>\n",
       "      <td>n/a</td>\n",
       "      <td>n/a</td>\n",
       "      <td>n/a</td>\n",
       "      <td>n/a</td>\n",
       "      <td>n/a</td>\n",
       "      <td>no vision or hearing difficulty</td>\n",
       "      <td>no</td>\n",
       "      <td>no</td>\n",
       "    </tr>\n",
       "    <tr>\n",
       "      <th>1</th>\n",
       "      <td>2017</td>\n",
       "      <td>1</td>\n",
       "      <td>1200045</td>\n",
       "      <td>2.017001e+12</td>\n",
       "      <td>6</td>\n",
       "      <td>79</td>\n",
       "      <td>25</td>\n",
       "      <td>male householder, no wife present</td>\n",
       "      <td>2.017012e+12</td>\n",
       "      <td>1.011189</td>\n",
       "      <td>...</td>\n",
       "      <td>0</td>\n",
       "      <td>not in identifiable area</td>\n",
       "      <td>n/a</td>\n",
       "      <td>no cognitive difficulty</td>\n",
       "      <td>no ambulatory difficulty</td>\n",
       "      <td>no independent living difficulty</td>\n",
       "      <td>no</td>\n",
       "      <td>no vision or hearing difficulty</td>\n",
       "      <td>no</td>\n",
       "      <td>no</td>\n",
       "    </tr>\n",
       "    <tr>\n",
       "      <th>2</th>\n",
       "      <td>2017</td>\n",
       "      <td>1</td>\n",
       "      <td>70831</td>\n",
       "      <td>2.017000e+12</td>\n",
       "      <td>1 person record</td>\n",
       "      <td>36</td>\n",
       "      <td>57</td>\n",
       "      <td>male householder, living alone</td>\n",
       "      <td>2.017001e+12</td>\n",
       "      <td>1.011189</td>\n",
       "      <td>...</td>\n",
       "      <td>0</td>\n",
       "      <td>not in identifiable area</td>\n",
       "      <td>n/a</td>\n",
       "      <td>has cognitive difficulty</td>\n",
       "      <td>no ambulatory difficulty</td>\n",
       "      <td>no independent living difficulty</td>\n",
       "      <td>no</td>\n",
       "      <td>no vision or hearing difficulty</td>\n",
       "      <td>no</td>\n",
       "      <td>no</td>\n",
       "    </tr>\n",
       "    <tr>\n",
       "      <th>3</th>\n",
       "      <td>2017</td>\n",
       "      <td>1</td>\n",
       "      <td>557128</td>\n",
       "      <td>2.017001e+12</td>\n",
       "      <td>2</td>\n",
       "      <td>10</td>\n",
       "      <td>98</td>\n",
       "      <td>married-couple family household</td>\n",
       "      <td>2.017006e+12</td>\n",
       "      <td>1.011189</td>\n",
       "      <td>...</td>\n",
       "      <td>0</td>\n",
       "      <td>not in identifiable area</td>\n",
       "      <td>n/a</td>\n",
       "      <td>no cognitive difficulty</td>\n",
       "      <td>no ambulatory difficulty</td>\n",
       "      <td>no independent living difficulty</td>\n",
       "      <td>no</td>\n",
       "      <td>no vision or hearing difficulty</td>\n",
       "      <td>no</td>\n",
       "      <td>no</td>\n",
       "    </tr>\n",
       "    <tr>\n",
       "      <th>4</th>\n",
       "      <td>2017</td>\n",
       "      <td>1</td>\n",
       "      <td>614890</td>\n",
       "      <td>2.017001e+12</td>\n",
       "      <td>4</td>\n",
       "      <td>96</td>\n",
       "      <td>54</td>\n",
       "      <td>married-couple family household</td>\n",
       "      <td>2.017006e+12</td>\n",
       "      <td>1.011189</td>\n",
       "      <td>...</td>\n",
       "      <td>0</td>\n",
       "      <td>not in identifiable area</td>\n",
       "      <td>n/a</td>\n",
       "      <td>n/a</td>\n",
       "      <td>n/a</td>\n",
       "      <td>n/a</td>\n",
       "      <td>n/a</td>\n",
       "      <td>no vision or hearing difficulty</td>\n",
       "      <td>no</td>\n",
       "      <td>no</td>\n",
       "    </tr>\n",
       "    <tr>\n",
       "      <th>...</th>\n",
       "      <td>...</td>\n",
       "      <td>...</td>\n",
       "      <td>...</td>\n",
       "      <td>...</td>\n",
       "      <td>...</td>\n",
       "      <td>...</td>\n",
       "      <td>...</td>\n",
       "      <td>...</td>\n",
       "      <td>...</td>\n",
       "      <td>...</td>\n",
       "      <td>...</td>\n",
       "      <td>...</td>\n",
       "      <td>...</td>\n",
       "      <td>...</td>\n",
       "      <td>...</td>\n",
       "      <td>...</td>\n",
       "      <td>...</td>\n",
       "      <td>...</td>\n",
       "      <td>...</td>\n",
       "      <td>...</td>\n",
       "      <td>...</td>\n",
       "    </tr>\n",
       "    <tr>\n",
       "      <th>318999</th>\n",
       "      <td>2017</td>\n",
       "      <td>1</td>\n",
       "      <td>734396</td>\n",
       "      <td>2.017001e+12</td>\n",
       "      <td>4</td>\n",
       "      <td>78</td>\n",
       "      <td>100</td>\n",
       "      <td>married-couple family household</td>\n",
       "      <td>2.017007e+12</td>\n",
       "      <td>1.011189</td>\n",
       "      <td>...</td>\n",
       "      <td>0</td>\n",
       "      <td>not in identifiable area</td>\n",
       "      <td>n/a</td>\n",
       "      <td>no cognitive difficulty</td>\n",
       "      <td>no ambulatory difficulty</td>\n",
       "      <td>no independent living difficulty</td>\n",
       "      <td>no</td>\n",
       "      <td>no vision or hearing difficulty</td>\n",
       "      <td>no</td>\n",
       "      <td>no</td>\n",
       "    </tr>\n",
       "    <tr>\n",
       "      <th>319000</th>\n",
       "      <td>2017</td>\n",
       "      <td>1</td>\n",
       "      <td>586263</td>\n",
       "      <td>2.017001e+12</td>\n",
       "      <td>4</td>\n",
       "      <td>57</td>\n",
       "      <td>77</td>\n",
       "      <td>married-couple family household</td>\n",
       "      <td>2.017006e+12</td>\n",
       "      <td>1.011189</td>\n",
       "      <td>...</td>\n",
       "      <td>0</td>\n",
       "      <td>not in identifiable area</td>\n",
       "      <td>n/a</td>\n",
       "      <td>n/a</td>\n",
       "      <td>n/a</td>\n",
       "      <td>n/a</td>\n",
       "      <td>n/a</td>\n",
       "      <td>no vision or hearing difficulty</td>\n",
       "      <td>no</td>\n",
       "      <td>no</td>\n",
       "    </tr>\n",
       "    <tr>\n",
       "      <th>319001</th>\n",
       "      <td>2017</td>\n",
       "      <td>1</td>\n",
       "      <td>510444</td>\n",
       "      <td>2.017001e+12</td>\n",
       "      <td>2</td>\n",
       "      <td>43</td>\n",
       "      <td>152</td>\n",
       "      <td>female householder, no husband present</td>\n",
       "      <td>2.017005e+12</td>\n",
       "      <td>1.011189</td>\n",
       "      <td>...</td>\n",
       "      <td>0</td>\n",
       "      <td>not in identifiable area</td>\n",
       "      <td>n/a</td>\n",
       "      <td>has cognitive difficulty</td>\n",
       "      <td>no ambulatory difficulty</td>\n",
       "      <td>no independent living difficulty</td>\n",
       "      <td>no</td>\n",
       "      <td>no vision or hearing difficulty</td>\n",
       "      <td>no</td>\n",
       "      <td>no</td>\n",
       "    </tr>\n",
       "    <tr>\n",
       "      <th>319002</th>\n",
       "      <td>2017</td>\n",
       "      <td>1</td>\n",
       "      <td>1220474</td>\n",
       "      <td>2.017001e+12</td>\n",
       "      <td>4</td>\n",
       "      <td>16</td>\n",
       "      <td>148</td>\n",
       "      <td>married-couple family household</td>\n",
       "      <td>2.017012e+12</td>\n",
       "      <td>1.011189</td>\n",
       "      <td>...</td>\n",
       "      <td>0</td>\n",
       "      <td>not in identifiable area</td>\n",
       "      <td>n/a</td>\n",
       "      <td>no cognitive difficulty</td>\n",
       "      <td>no ambulatory difficulty</td>\n",
       "      <td>no independent living difficulty</td>\n",
       "      <td>no</td>\n",
       "      <td>no vision or hearing difficulty</td>\n",
       "      <td>no</td>\n",
       "      <td>no</td>\n",
       "    </tr>\n",
       "    <tr>\n",
       "      <th>319003</th>\n",
       "      <td>2017</td>\n",
       "      <td>1</td>\n",
       "      <td>219435</td>\n",
       "      <td>2.017000e+12</td>\n",
       "      <td>2</td>\n",
       "      <td>17</td>\n",
       "      <td>47</td>\n",
       "      <td>married-couple family household</td>\n",
       "      <td>2.017002e+12</td>\n",
       "      <td>1.011189</td>\n",
       "      <td>...</td>\n",
       "      <td>0</td>\n",
       "      <td>not in identifiable area</td>\n",
       "      <td>n/a</td>\n",
       "      <td>no cognitive difficulty</td>\n",
       "      <td>no ambulatory difficulty</td>\n",
       "      <td>no independent living difficulty</td>\n",
       "      <td>no</td>\n",
       "      <td>no vision or hearing difficulty</td>\n",
       "      <td>no</td>\n",
       "      <td>no</td>\n",
       "    </tr>\n",
       "  </tbody>\n",
       "</table>\n",
       "<p>319004 rows × 104 columns</p>\n",
       "</div>"
      ],
      "text/plain": [
       "        year  datanum   serial      cbserial          numprec subsamp  hhwt  \\\n",
       "0       2017        1   177686  2.017001e+12                9      64    55   \n",
       "1       2017        1  1200045  2.017001e+12                6      79    25   \n",
       "2       2017        1    70831  2.017000e+12  1 person record      36    57   \n",
       "3       2017        1   557128  2.017001e+12                2      10    98   \n",
       "4       2017        1   614890  2.017001e+12                4      96    54   \n",
       "...      ...      ...      ...           ...              ...     ...   ...   \n",
       "318999  2017        1   734396  2.017001e+12                4      78   100   \n",
       "319000  2017        1   586263  2.017001e+12                4      57    77   \n",
       "319001  2017        1   510444  2.017001e+12                2      43   152   \n",
       "319002  2017        1  1220474  2.017001e+12                4      16   148   \n",
       "319003  2017        1   219435  2.017000e+12                2      17    47   \n",
       "\n",
       "                                        hhtype       cluster    adjust  ...  \\\n",
       "0       female householder, no husband present  2.017002e+12  1.011189  ...   \n",
       "1            male householder, no wife present  2.017012e+12  1.011189  ...   \n",
       "2               male householder, living alone  2.017001e+12  1.011189  ...   \n",
       "3              married-couple family household  2.017006e+12  1.011189  ...   \n",
       "4              married-couple family household  2.017006e+12  1.011189  ...   \n",
       "...                                        ...           ...       ...  ...   \n",
       "318999         married-couple family household  2.017007e+12  1.011189  ...   \n",
       "319000         married-couple family household  2.017006e+12  1.011189  ...   \n",
       "319001  female householder, no husband present  2.017005e+12  1.011189  ...   \n",
       "319002         married-couple family household  2.017012e+12  1.011189  ...   \n",
       "319003         married-couple family household  2.017002e+12  1.011189  ...   \n",
       "\n",
       "        migcounty1                 migmet131 vetdisab  \\\n",
       "0                0  not in identifiable area      n/a   \n",
       "1                0  not in identifiable area      n/a   \n",
       "2                0  not in identifiable area      n/a   \n",
       "3                0  not in identifiable area      n/a   \n",
       "4                0  not in identifiable area      n/a   \n",
       "...            ...                       ...      ...   \n",
       "318999           0  not in identifiable area      n/a   \n",
       "319000           0  not in identifiable area      n/a   \n",
       "319001           0  not in identifiable area      n/a   \n",
       "319002           0  not in identifiable area      n/a   \n",
       "319003           0  not in identifiable area      n/a   \n",
       "\n",
       "                         diffrem                  diffphys  \\\n",
       "0                            n/a                       n/a   \n",
       "1        no cognitive difficulty  no ambulatory difficulty   \n",
       "2       has cognitive difficulty  no ambulatory difficulty   \n",
       "3        no cognitive difficulty  no ambulatory difficulty   \n",
       "4                            n/a                       n/a   \n",
       "...                          ...                       ...   \n",
       "318999   no cognitive difficulty  no ambulatory difficulty   \n",
       "319000                       n/a                       n/a   \n",
       "319001  has cognitive difficulty  no ambulatory difficulty   \n",
       "319002   no cognitive difficulty  no ambulatory difficulty   \n",
       "319003   no cognitive difficulty  no ambulatory difficulty   \n",
       "\n",
       "                                 diffmob diffcare  \\\n",
       "0                                    n/a      n/a   \n",
       "1       no independent living difficulty       no   \n",
       "2       no independent living difficulty       no   \n",
       "3       no independent living difficulty       no   \n",
       "4                                    n/a      n/a   \n",
       "...                                  ...      ...   \n",
       "318999  no independent living difficulty       no   \n",
       "319000                               n/a      n/a   \n",
       "319001  no independent living difficulty       no   \n",
       "319002  no independent living difficulty       no   \n",
       "319003  no independent living difficulty       no   \n",
       "\n",
       "                               diffsens  diffeye  diffhear  \n",
       "0       no vision or hearing difficulty       no        no  \n",
       "1       no vision or hearing difficulty       no        no  \n",
       "2       no vision or hearing difficulty       no        no  \n",
       "3       no vision or hearing difficulty       no        no  \n",
       "4       no vision or hearing difficulty       no        no  \n",
       "...                                 ...      ...       ...  \n",
       "318999  no vision or hearing difficulty       no        no  \n",
       "319000  no vision or hearing difficulty       no        no  \n",
       "319001  no vision or hearing difficulty       no        no  \n",
       "319002  no vision or hearing difficulty       no        no  \n",
       "319003  no vision or hearing difficulty       no        no  \n",
       "\n",
       "[319004 rows x 104 columns]"
      ]
     },
     "metadata": {},
     "execution_count": 1
    }
   ],
   "metadata": {}
  },
  {
   "cell_type": "code",
   "execution_count": 2,
   "source": [
    "#exercise 2 - compute mean income for 2017 US ACS sample data\n",
    "\n",
    "mean_inc = df['inctot'].mean()\n",
    "print(f'The mean income in 2017 US ACS sample is: ${mean_inc:.2f}')"
   ],
   "outputs": [
    {
     "output_type": "stream",
     "name": "stdout",
     "text": [
      "The mean income in 2017 US ACS sample is: $1723646.27\n"
     ]
    }
   ],
   "metadata": {}
  },
  {
   "cell_type": "code",
   "execution_count": 3,
   "source": [
    "#exercise 3 - find distribution of income in data\n",
    "\n",
    "#This will count up values in income (for git exercise)\n",
    "df['inctot'].value_counts()"
   ],
   "outputs": [
    {
     "output_type": "execute_result",
     "data": {
      "text/plain": [
       "9999999    53901\n",
       "0          33679\n",
       "30000       4778\n",
       "50000       4414\n",
       "40000       4413\n",
       "           ...  \n",
       "70520          1\n",
       "76680          1\n",
       "57760          1\n",
       "200310         1\n",
       "505400         1\n",
       "Name: inctot, Length: 8471, dtype: int64"
      ]
     },
     "metadata": {},
     "execution_count": 3
    }
   ],
   "metadata": {}
  },
  {
   "cell_type": "markdown",
   "source": [
    "There are missing income values that default to $9999999 which increases the average income. "
   ],
   "metadata": {}
  },
  {
   "cell_type": "code",
   "execution_count": 4,
   "source": [
    "#exercise 3- find income distribution proportions\n",
    "\n",
    "df['inctot'].value_counts(normalize = True)"
   ],
   "outputs": [
    {
     "output_type": "execute_result",
     "data": {
      "text/plain": [
       "9999999    0.168967\n",
       "0          0.105575\n",
       "30000      0.014978\n",
       "50000      0.013837\n",
       "40000      0.013834\n",
       "             ...   \n",
       "70520      0.000003\n",
       "76680      0.000003\n",
       "57760      0.000003\n",
       "200310     0.000003\n",
       "505400     0.000003\n",
       "Name: inctot, Length: 8471, dtype: float64"
      ]
     },
     "metadata": {},
     "execution_count": 4
    }
   ],
   "metadata": {}
  },
  {
   "cell_type": "markdown",
   "source": [
    "~17% of individuals have an \"income\" of $9999999. ~11% of individual have no income."
   ],
   "metadata": {}
  },
  {
   "cell_type": "code",
   "execution_count": 5,
   "source": [
    "#exercise 4 - replace income of 9999999 with NaN\n",
    "import numpy as np \n",
    "df['inctot']= df[['inctot']].replace(to_replace = 9999999, value = np.nan)\n",
    "df['inctot']"
   ],
   "outputs": [
    {
     "output_type": "execute_result",
     "data": {
      "text/plain": [
       "0              NaN\n",
       "1           6000.0\n",
       "2           6150.0\n",
       "3          14000.0\n",
       "4              NaN\n",
       "            ...   \n",
       "318999     22130.0\n",
       "319000         NaN\n",
       "319001      5000.0\n",
       "319002    240000.0\n",
       "319003     48000.0\n",
       "Name: inctot, Length: 319004, dtype: float64"
      ]
     },
     "metadata": {},
     "execution_count": 5
    }
   ],
   "metadata": {}
  },
  {
   "cell_type": "code",
   "execution_count": 6,
   "source": [
    "#exercise 5 - calculate average income after replacing 9999999 with NaN\n",
    "average_income = df[\"inctot\"].mean()\n",
    "print(f'The mean income in 2017 US ACS sample is: ${average_income:.2f}')\n"
   ],
   "outputs": [
    {
     "output_type": "stream",
     "name": "stdout",
     "text": [
      "The mean income in 2017 US ACS sample is: $40890.18\n"
     ]
    }
   ],
   "metadata": {}
  },
  {
   "cell_type": "code",
   "execution_count": 7,
   "source": [
    "#exercise 6 - subset for missing income and look at age value counts\n",
    "\n",
    "subset_df=df[df['inctot'].isnull()]\n",
    "subset_df['age'].value_counts()\n"
   ],
   "outputs": [
    {
     "output_type": "execute_result",
     "data": {
      "text/plain": [
       "10    3997\n",
       "9     3977\n",
       "14    3847\n",
       "12    3845\n",
       "13    3800\n",
       "      ... \n",
       "39       0\n",
       "38       0\n",
       "37       0\n",
       "36       0\n",
       "96       0\n",
       "Name: age, Length: 97, dtype: int64"
      ]
     },
     "metadata": {},
     "execution_count": 7
    }
   ],
   "metadata": {}
  },
  {
   "cell_type": "markdown",
   "source": [
    "Most of the people who don't have income are under the age of 15. Hence why they originally had the artificial income of $9999999."
   ],
   "metadata": {}
  },
  {
   "cell_type": "code",
   "execution_count": 8,
   "source": [
    "#exercise 6 - subset for income not missing, look at age distribution \n",
    "\n",
    "subset_df2 = df[df['inctot'].notnull()]\n",
    "subset_df2['age'].value_counts()"
   ],
   "outputs": [
    {
     "output_type": "execute_result",
     "data": {
      "text/plain": [
       "60                      4950\n",
       "54                      4821\n",
       "59                      4776\n",
       "56                      4776\n",
       "58                      4734\n",
       "                        ... \n",
       "5                          0\n",
       "4                          0\n",
       "3                          0\n",
       "2                          0\n",
       "less than 1 year old       0\n",
       "Name: age, Length: 97, dtype: int64"
      ]
     },
     "metadata": {},
     "execution_count": 8
    }
   ],
   "metadata": {}
  },
  {
   "cell_type": "markdown",
   "source": [
    "Adults generally seem to have an income value associated with them. 9999999 was being used for children who probably don't have an income as can be seen in age distribution computed for nan. We can exclude children with no income but an artificial 9999999 designation from our analysis since their inclusion results in skewed data. "
   ],
   "metadata": {}
  },
  {
   "cell_type": "code",
   "execution_count": 9,
   "source": [
    "#exercise 7 - subset for employment status and look at the distribution of incomes \n",
    "\n",
    "subset_df3 = df[df['empstat'] == 'employed']\n",
    "subset_df3['inctot'].value_counts()"
   ],
   "outputs": [
    {
     "output_type": "execute_result",
     "data": {
      "text/plain": [
       "30000.0     4206\n",
       "50000.0     4111\n",
       "40000.0     4062\n",
       "60000.0     3389\n",
       "20000.0     3349\n",
       "            ... \n",
       "21280.0        1\n",
       "3250.0         1\n",
       "47060.0        1\n",
       "59730.0        1\n",
       "505400.0       1\n",
       "Name: inctot, Length: 6266, dtype: int64"
      ]
     },
     "metadata": {},
     "execution_count": 9
    }
   ],
   "metadata": {}
  },
  {
   "cell_type": "markdown",
   "source": [
    "There is no one who is employed and has 0 income. However, the categories n/a, unemployed, and not in labor force have mostly people with 0 income. So, we should exclude people with income 0 from our analysis if we're focusing on only employed people, since no one who is employed has 0 income. "
   ],
   "metadata": {}
  },
  {
   "cell_type": "code",
   "execution_count": 10,
   "source": [
    "#exercise 8 - income percentages for Black Americans vs White Americans\n",
    "\n",
    "white_americans = subset_df3[subset_df3['race']=='white']\n",
    "ave_white = white_americans['inctot'].mean()\n",
    "print(f'The mean income of White Americans in 2017 is: ${ave_white:.2f}')\n",
    "\n",
    "black_African_americans = subset_df3[subset_df3['race']=='black/african american/negro']\n",
    "ave_ba = black_African_americans['inctot'].mean()\n",
    "print(f'The mean income of White Americans in 2017 is: ${ave_ba:.2f}')\n",
    "\n",
    "percent_difference = (ave_white-ave_ba)/ave_white*100\n",
    "print(f'The percent difference between mean income of White and Black/African Americans is: {percent_difference:.2f}%')\n"
   ],
   "outputs": [
    {
     "output_type": "stream",
     "name": "stdout",
     "text": [
      "The mean income of White Americans in 2017 is: $60473.15\n",
      "The mean income of White Americans in 2017 is: $41747.95\n",
      "The percent difference between mean income of White and Black/African Americans is: 30.96%\n"
     ]
    }
   ],
   "metadata": {}
  }
 ],
 "metadata": {
  "orig_nbformat": 4,
  "language_info": {
   "name": "python",
   "version": "3.9.6",
   "mimetype": "text/x-python",
   "codemirror_mode": {
    "name": "ipython",
    "version": 3
   },
   "pygments_lexer": "ipython3",
   "nbconvert_exporter": "python",
   "file_extension": ".py"
  },
  "kernelspec": {
   "name": "python3",
   "display_name": "Python 3.9.6 64-bit ('base': conda)"
  },
  "interpreter": {
   "hash": "c3cd7ad95e048948c6f724be029a7ad6b9dfe6d9f50949a51e3326388b4226ae"
  }
 },
 "nbformat": 4,
 "nbformat_minor": 2
}