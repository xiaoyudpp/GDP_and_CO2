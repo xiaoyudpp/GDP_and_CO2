{
 "cells": [
  {
   "cell_type": "markdown",
   "source": [
    "# Assignment 3"
   ],
   "metadata": {}
  },
  {
   "cell_type": "code",
   "execution_count": 1,
   "source": [
    "import pandas as pd\n",
    "gdppercap = pd.Series([34605, 34493, 12393, 44200, 10041,\n",
    "                       58138, 4709, 49284, 10109, 42536],\n",
    "                      index=['Bahrain', 'Belgium', 'Bulgaria',\n",
    "                             'Ireland', 'Macedonia', 'Norway',\n",
    "                             'Paraguay', 'Singapore',\n",
    "                             'South Africa', 'Switzerland']\n",
    "                      )\n"
   ],
   "outputs": [],
   "metadata": {}
  },
  {
   "cell_type": "code",
   "execution_count": 2,
   "source": [
    "gdppercap"
   ],
   "outputs": [
    {
     "output_type": "execute_result",
     "data": {
      "text/plain": [
       "Bahrain         34605\n",
       "Belgium         34493\n",
       "Bulgaria        12393\n",
       "Ireland         44200\n",
       "Macedonia       10041\n",
       "Norway          58138\n",
       "Paraguay         4709\n",
       "Singapore       49284\n",
       "South Africa    10109\n",
       "Switzerland     42536\n",
       "dtype: int64"
      ]
     },
     "metadata": {},
     "execution_count": 2
    }
   ],
   "metadata": {}
  },
  {
   "cell_type": "code",
   "execution_count": 17,
   "source": [
    "print(f\"mean = {gdppercap.mean()}\")\n",
    "print(f\"median = {gdppercap.median()}\")\n",
    "print(f\"max = {gdppercap.max()}\")\n",
    "print(f\"min = {gdppercap.min()}\")"
   ],
   "outputs": [
    {
     "output_type": "stream",
     "name": "stdout",
     "text": [
      "mean = gdppercap.mean() = 30050.8\n",
      "median = 34549.0\n",
      "max = 58138\n",
      "min = 4709\n"
     ]
    }
   ],
   "metadata": {}
  },
  {
   "cell_type": "code",
   "execution_count": 8,
   "source": [
    "sorted_series = gdppercap.sort_values()\n",
    "print(f\"lowest: {sorted_series.iloc[0]}\")\n",
    "print(f\"highest: {sorted_series.iloc[-1]}\")"
   ],
   "outputs": [
    {
     "output_type": "stream",
     "name": "stdout",
     "text": [
      "lowest: 4709\n",
      "highest: 58138\n"
     ]
    }
   ],
   "metadata": {}
  },
  {
   "cell_type": "code",
   "execution_count": 13,
   "source": [
    "print(\"Countries with GDPpC < 20,000:\")\n",
    "print(gdppercap.loc[gdppercap < 20000].index)"
   ],
   "outputs": [
    {
     "output_type": "stream",
     "name": "stdout",
     "text": [
      "Countries with GDPpC < 20,000\n",
      "Index(['Bulgaria', 'Macedonia', 'Paraguay', 'South Africa'], dtype='object')\n"
     ]
    }
   ],
   "metadata": {}
  },
  {
   "cell_type": "code",
   "execution_count": 14,
   "source": [
    "print(\"Switzerlands GDPpC\")\n",
    "gdppercap.loc['Switzerland']"
   ],
   "outputs": [
    {
     "output_type": "stream",
     "name": "stdout",
     "text": [
      "Switzerlands GDPpC\n"
     ]
    },
    {
     "output_type": "execute_result",
     "data": {
      "text/plain": [
       "42536"
      ]
     },
     "metadata": {},
     "execution_count": 14
    }
   ],
   "metadata": {}
  },
  {
   "cell_type": "code",
   "execution_count": 36,
   "source": [
    "len(gdppercap.sort_values())"
   ],
   "outputs": [
    {
     "output_type": "execute_result",
     "data": {
      "text/plain": [
       "10"
      ]
     },
     "metadata": {},
     "execution_count": 36
    }
   ],
   "metadata": {}
  },
  {
   "cell_type": "code",
   "execution_count": 43,
   "source": [
    "def gini(sorted_series):\n",
    "    sorted_series = sorted_series.sort_values()\n",
    "    s = 0\n",
    "\n",
    "    n = len(sorted_series)\n",
    "\n",
    "    for i in range(1, n+1):\n",
    "        s = s + i * sorted_series.iloc[i-1]\n",
    "    nominator = 2*s\n",
    "\n",
    "\n",
    "    s = sorted_series.sum()\n",
    "    denominator = n*s\n",
    "\n",
    "    return nominator/denominator - ((n+1)/n)\n",
    "\n",
    "\n",
    "print(f\"Gini index = {gini(gdppercap.sort_values())}\")\n",
    "\n",
    "\n"
   ],
   "outputs": [
    {
     "output_type": "stream",
     "name": "stdout",
     "text": [
      "Gini index = 0.3382798461272245\n"
     ]
    }
   ],
   "metadata": {}
  },
  {
   "cell_type": "code",
   "execution_count": 38,
   "source": [
    "avg_growth = pd.Series([-0.29768835, 0.980299584, 4.52991925,\n",
    "                        3.686556736, 2.621416804, 0.775132075,\n",
    "                        2.015489468, 3.345793635, 1.349993318,\n",
    "                        0.982775018],\n",
    "                       index=['Bahrain', 'Belgium', 'Bulgaria',\n",
    "                              'Ireland', 'Macedonia', 'Norway',\n",
    "                              'Paraguay', 'Singapore',\n",
    "                              'South Africa', 'Switzerland']\n",
    "                       )\n",
    "\n",
    "avg_growth"
   ],
   "outputs": [
    {
     "output_type": "execute_result",
     "data": {
      "text/plain": [
       "Bahrain        -0.297688\n",
       "Belgium         0.980300\n",
       "Bulgaria        4.529919\n",
       "Ireland         3.686557\n",
       "Macedonia       2.621417\n",
       "Norway          0.775132\n",
       "Paraguay        2.015489\n",
       "Singapore       3.345794\n",
       "South Africa    1.349993\n",
       "Switzerland     0.982775\n",
       "dtype: float64"
      ]
     },
     "metadata": {},
     "execution_count": 38
    }
   ],
   "metadata": {}
  },
  {
   "cell_type": "code",
   "execution_count": 48,
   "source": [
    "future_values = gdppercap * (1 + avg_growth/100)**17\n",
    "future_values"
   ],
   "outputs": [
    {
     "output_type": "execute_result",
     "data": {
      "text/plain": [
       "Bahrain         32894.836013\n",
       "Belgium         40714.968220\n",
       "Bulgaria        26318.849643\n",
       "Ireland         81790.706907\n",
       "Macedonia       15589.172902\n",
       "Norway          66292.970514\n",
       "Paraguay         6610.779784\n",
       "Singapore       86235.012247\n",
       "South Africa    12697.303814\n",
       "Switzerland     50229.720787\n",
       "dtype: float64"
      ]
     },
     "metadata": {},
     "execution_count": 48
    }
   ],
   "metadata": {}
  },
  {
   "cell_type": "code",
   "execution_count": 49,
   "source": [
    "print(f\"Future gini index: {gini(future_values)}\")"
   ],
   "outputs": [
    {
     "output_type": "stream",
     "name": "stdout",
     "text": [
      "Future gini index: 0.3656264991306193\n"
     ]
    }
   ],
   "metadata": {}
  },
  {
   "cell_type": "markdown",
   "source": [
    "Since the gini index has increased based on the forecasted future GDP values, we do not expect them to converge. "
   ],
   "metadata": {}
  }
 ],
 "metadata": {
  "orig_nbformat": 4,
  "language_info": {
   "name": "python",
   "version": "3.9.6",
   "mimetype": "text/x-python",
   "codemirror_mode": {
    "name": "ipython",
    "version": 3
   },
   "pygments_lexer": "ipython3",
   "nbconvert_exporter": "python",
   "file_extension": ".py"
  },
  "kernelspec": {
   "name": "python3",
   "display_name": "Python 3.9.6 64-bit ('base': conda)"
  },
  "interpreter": {
   "hash": "8d0942587785878acec3b5c0985f1beb4cc7ec7df8ce3b8f4b5d7ac427bb09ff"
  }
 },
 "nbformat": 4,
 "nbformat_minor": 2
}